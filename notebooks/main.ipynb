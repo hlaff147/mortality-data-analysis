{
 "cells": [
  {
   "cell_type": "code",
   "execution_count": 1,
   "metadata": {},
   "outputs": [],
   "source": [
    "import pandas as pd"
   ]
  },
  {
   "cell_type": "code",
   "execution_count": 10,
   "metadata": {},
   "outputs": [
    {
     "name": "stdout",
     "output_type": "stream",
     "text": [
      "0    True\n",
      "Name: ano, dtype: bool\n",
      "0    True\n",
      "Name: ano, dtype: bool\n",
      "0    True\n",
      "Name: ano, dtype: bool\n",
      "0    True\n",
      "Name: ano, dtype: bool\n",
      "0    True\n",
      "Name: ano, dtype: bool\n"
     ]
    }
   ],
   "source": [
    "df_2022 = pd.read_csv('../data/bq-results-PE-2022.csv')\n",
    "df_2021 = pd.read_csv('../data/bq-results-PE-2021.csv')\n",
    "df_2020 = pd.read_csv('../data/bq-results-PE-2020.csv')\n",
    "df_2019 = pd.read_csv('../data/bq-results-PE-2019.csv')\n",
    "df_2018 = pd.read_csv('../data/bq-results-PE-2018.csv')\n",
    "\n",
    "print(df_2018.head(1)[\"ano\"] == 2018)\n",
    "print(df_2019.head(1)[\"ano\"] == 2019)\n",
    "print(df_2020.head(1)[\"ano\"] == 2020)\n",
    "print(df_2021.head(1)[\"ano\"] == 2021)\n",
    "print(df_2022.head(1)[\"ano\"] == 2022)"
   ]
  }
 ],
 "metadata": {
  "kernelspec": {
   "display_name": "Python 3",
   "language": "python",
   "name": "python3"
  },
  "language_info": {
   "codemirror_mode": {
    "name": "ipython",
    "version": 3
   },
   "file_extension": ".py",
   "mimetype": "text/x-python",
   "name": "python",
   "nbconvert_exporter": "python",
   "pygments_lexer": "ipython3",
   "version": "3.8.18"
  }
 },
 "nbformat": 4,
 "nbformat_minor": 2
}
